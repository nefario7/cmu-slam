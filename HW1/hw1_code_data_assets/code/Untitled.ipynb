{
 "cells": [
  {
   "cell_type": "code",
   "execution_count": 1,
   "id": "1de09c2b",
   "metadata": {},
   "outputs": [],
   "source": [
    "import numpy as np\n",
    "import pandas as pd"
   ]
  },
  {
   "cell_type": "code",
   "execution_count": 16,
   "id": "e4af16e0",
   "metadata": {},
   "outputs": [
    {
     "name": "stdout",
     "output_type": "stream",
     "text": [
      "[[0.66467454 0.95801279 0.84449597 0.21081272 0.92359587 0.59065647]\n",
      " [0.0028505  0.40811518 0.64791677 0.71789936 0.11357025 0.36463148]\n",
      " [0.61695529 0.33241399 0.01921642 0.08892684 0.07656144 0.84373748]\n",
      " [0.07995716 0.51286217 0.06170719 0.28531114 0.25644993 0.45908959]\n",
      " [0.16259001 0.4459557  0.02779122 0.44303618 0.69506516 0.38667226]]\n",
      "[[1 2 3 4 5 6]\n",
      " [1 2 3 4 5 6]\n",
      " [1 2 3 4 5 6]\n",
      " [1 2 3 4 5 6]\n",
      " [1 2 3 4 5 6]]\n"
     ]
    }
   ],
   "source": [
    "a = np.random.rand(5, 6)\n",
    "d_arr = np.arange(1, 7)\n",
    "d_mat = np.tile(d_arr, (5, 1))\n",
    "print(a)\n",
    "print(d_mat)"
   ]
  },
  {
   "cell_type": "code",
   "execution_count": 17,
   "id": "51921f3b",
   "metadata": {},
   "outputs": [
    {
     "name": "stdout",
     "output_type": "stream",
     "text": [
      "[[0.         0.95801279 0.84449597 0.         0.92359587 0.        ]\n",
      " [0.         0.         0.         0.71789936 0.         0.        ]\n",
      " [0.         0.         0.         0.         0.         0.84373748]\n",
      " [0.         0.         0.         0.         0.         0.        ]\n",
      " [0.         0.         0.         0.         0.         0.        ]]\n"
     ]
    }
   ],
   "source": [
    "mask = a > 0.7\n",
    "print(a * mask)"
   ]
  },
  {
   "cell_type": "code",
   "execution_count": 18,
   "id": "24c6457d",
   "metadata": {},
   "outputs": [
    {
     "name": "stdout",
     "output_type": "stream",
     "text": [
      "[ 1  3  5 -1 -1]\n"
     ]
    }
   ],
   "source": [
    "idxs = np.where(mask.any(axis=1), mask.argmax(axis=1), -1)\n",
    "print(idxs)"
   ]
  },
  {
   "cell_type": "code",
   "execution_count": 19,
   "id": "080a67d6",
   "metadata": {},
   "outputs": [
    {
     "name": "stdout",
     "output_type": "stream",
     "text": [
      "[[2. 0. 0. 0. 0. 0.]\n",
      " [4. 0. 0. 0. 0. 0.]\n",
      " [6. 0. 0. 0. 0. 0.]\n",
      " [6. 0. 0. 0. 0. 0.]\n",
      " [6. 0. 0. 0. 0. 0.]]\n"
     ]
    }
   ],
   "source": [
    "z_star = np.zeros((5, 6))\n",
    "z_star[:, 0] = d_arr[idxs]\n",
    "print(z_star)"
   ]
  },
  {
   "cell_type": "code",
   "execution_count": 74,
   "id": "4a441e12",
   "metadata": {},
   "outputs": [
    {
     "name": "stdout",
     "output_type": "stream",
     "text": [
      "[array([0, 1, 4, 5], dtype=int64), array([0, 1, 2, 4], dtype=int64), array([0, 2, 3, 4, 5], dtype=int64), array([1, 3, 5], dtype=int64), array([1, 3, 4, 5], dtype=int64)]\n"
     ]
    }
   ],
   "source": [
    "x = np.split(b[1], np.unique(b[0], return_index=True)[1][1:])\n",
    "print(x)"
   ]
  },
  {
   "cell_type": "code",
   "execution_count": 62,
   "id": "316f0b7b",
   "metadata": {},
   "outputs": [],
   "source": [
    "x = np.array(x, dtype=\"object\")"
   ]
  },
  {
   "cell_type": "code",
   "execution_count": 63,
   "id": "8196bb3e",
   "metadata": {},
   "outputs": [
    {
     "name": "stdout",
     "output_type": "stream",
     "text": [
      "[[0 1 4 5 0]\n",
      " [1 2 4 0 2]\n",
      " [3 4 5 1 3]\n",
      " [5 1 3 4 5]]\n"
     ]
    }
   ],
   "source": [
    "print(x)"
   ]
  },
  {
   "cell_type": "code",
   "execution_count": 59,
   "id": "511d9276",
   "metadata": {},
   "outputs": [
    {
     "data": {
      "text/html": [
       "<div>\n",
       "<style scoped>\n",
       "    .dataframe tbody tr th:only-of-type {\n",
       "        vertical-align: middle;\n",
       "    }\n",
       "\n",
       "    .dataframe tbody tr th {\n",
       "        vertical-align: top;\n",
       "    }\n",
       "\n",
       "    .dataframe thead th {\n",
       "        text-align: right;\n",
       "    }\n",
       "</style>\n",
       "<table border=\"1\" class=\"dataframe\">\n",
       "  <thead>\n",
       "    <tr style=\"text-align: right;\">\n",
       "      <th></th>\n",
       "      <th>0</th>\n",
       "    </tr>\n",
       "  </thead>\n",
       "  <tbody>\n",
       "    <tr>\n",
       "      <th>0</th>\n",
       "      <td>[0, 1, 4, 5]</td>\n",
       "    </tr>\n",
       "    <tr>\n",
       "      <th>1</th>\n",
       "      <td>[0, 1, 2, 4]</td>\n",
       "    </tr>\n",
       "    <tr>\n",
       "      <th>2</th>\n",
       "      <td>[0, 2, 3, 4, 5]</td>\n",
       "    </tr>\n",
       "    <tr>\n",
       "      <th>3</th>\n",
       "      <td>[1, 3, 5]</td>\n",
       "    </tr>\n",
       "    <tr>\n",
       "      <th>4</th>\n",
       "      <td>[1, 3, 4, 5]</td>\n",
       "    </tr>\n",
       "  </tbody>\n",
       "</table>\n",
       "</div>"
      ],
      "text/plain": [
       "                 0\n",
       "0     [0, 1, 4, 5]\n",
       "1     [0, 1, 2, 4]\n",
       "2  [0, 2, 3, 4, 5]\n",
       "3        [1, 3, 5]\n",
       "4     [1, 3, 4, 5]"
      ]
     },
     "execution_count": 59,
     "metadata": {},
     "output_type": "execute_result"
    }
   ],
   "source": [
    "df"
   ]
  },
  {
   "cell_type": "code",
   "execution_count": null,
   "id": "da252fcf",
   "metadata": {},
   "outputs": [],
   "source": []
  }
 ],
 "metadata": {
  "kernelspec": {
   "display_name": "Python 3",
   "language": "python",
   "name": "python3"
  },
  "language_info": {
   "codemirror_mode": {
    "name": "ipython",
    "version": 3
   },
   "file_extension": ".py",
   "mimetype": "text/x-python",
   "name": "python",
   "nbconvert_exporter": "python",
   "pygments_lexer": "ipython3",
   "version": "3.8.8"
  }
 },
 "nbformat": 4,
 "nbformat_minor": 5
}
